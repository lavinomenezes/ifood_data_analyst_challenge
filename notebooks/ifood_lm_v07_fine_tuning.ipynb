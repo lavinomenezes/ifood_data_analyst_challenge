{
 "cells": [
  {
   "cell_type": "markdown",
   "id": "da95f712",
   "metadata": {},
   "source": [
    "# Imports"
   ]
  },
  {
   "cell_type": "code",
   "execution_count": 41,
   "id": "97decc9f",
   "metadata": {
    "ExecuteTime": {
     "end_time": "2023-02-24T13:09:36.112661Z",
     "start_time": "2023-02-24T13:09:36.082013Z"
    }
   },
   "outputs": [],
   "source": [
    "#manipulação de dados\n",
    "import pandas as pd\n",
    "import numpy  as np\n",
    "\n",
    "#visualização\n",
    "import matplotlib.pyplot as plt\n",
    "import seaborn           as sns\n",
    "from IPython.core.display import HTML\n",
    "\n",
    "#metricas\n",
    "import sklearn.metrics\n",
    "import scikitplot        as skplt\n",
    "from scipy import stats\n",
    "\n",
    "# processamento de dados\n",
    "from sklearn.model_selection import train_test_split\n",
    "from sklearn.model_selection import StratifiedKFold\n",
    "import pickle\n",
    "\n",
    "#modelos\n",
    "from imblearn.ensemble       import BalancedRandomForestClassifier\n"
   ]
  },
  {
   "cell_type": "markdown",
   "id": "b6af9166",
   "metadata": {
    "heading_collapsed": true
   },
   "source": [
    "## Helper functions"
   ]
  },
  {
   "cell_type": "code",
   "execution_count": 42,
   "id": "28c2f65a",
   "metadata": {
    "ExecuteTime": {
     "end_time": "2023-02-24T13:09:36.144440Z",
     "start_time": "2023-02-24T13:09:36.117355Z"
    },
    "hidden": true
   },
   "outputs": [
    {
     "name": "stdout",
     "output_type": "stream",
     "text": [
      "%pylab is deprecated, use %matplotlib inline and import the required libraries.\n",
      "Populating the interactive namespace from numpy and matplotlib\n"
     ]
    },
    {
     "data": {
      "text/html": [
       "<style>.container { width:100% !important; }</style>"
      ],
      "text/plain": [
       "<IPython.core.display.HTML object>"
      ]
     },
     "metadata": {},
     "output_type": "display_data"
    }
   ],
   "source": [
    "# configuração do jupyter notebook e plotagem de imagens\n",
    "def jupyter_settings():\n",
    "    %matplotlib inline\n",
    "    %pylab inline\n",
    "    plt.style.use( 'bmh' )\n",
    "    plt.rcParams['figure.figsize'] = [25, 12]\n",
    "    plt.rcParams['font.size'] = 24\n",
    "    display( HTML( '<style>.container { width:100% !important; }</style>') )\n",
    "    sns.set()\n",
    "jupyter_settings()"
   ]
  },
  {
   "cell_type": "code",
   "execution_count": 43,
   "id": "e741235c",
   "metadata": {
    "ExecuteTime": {
     "end_time": "2023-02-24T13:09:36.160066Z",
     "start_time": "2023-02-24T13:09:36.144440Z"
    },
    "hidden": true
   },
   "outputs": [],
   "source": [
    "import warnings\n",
    "warnings.filterwarnings(\"ignore\")"
   ]
  },
  {
   "cell_type": "code",
   "execution_count": 44,
   "id": "eba96d7a",
   "metadata": {
    "ExecuteTime": {
     "end_time": "2023-02-24T13:09:36.191315Z",
     "start_time": "2023-02-24T13:09:36.160066Z"
    },
    "hidden": true
   },
   "outputs": [],
   "source": [
    "def precision_at_k( data, k=200 ):\n",
    "    \"\"\"\n",
    "    Object that return the precision at k  of recommended items in the top-k set that are relevant\n",
    "    :param data: dataframe that will be calculated the precision at k position\n",
    "    :param k: int, default=2000, position that the metric will be calculated default='2000'\n",
    "    :return: a float value\n",
    "    \"\"\"\n",
    "    # reset index\n",
    "    data = data.reset_index( drop=True )\n",
    "\n",
    "    # create ranking order\n",
    "    data['ranking'] = data.index + 1\n",
    "\n",
    "    data['precision_at_k'] = data['response'].cumsum() / data['ranking']\n",
    "\n",
    "    return data.loc[k, 'precision_at_k']\n",
    "\n",
    "\n",
    "def recall_at_k( data, k=200 ):\n",
    "    \"\"\"\n",
    "    Object that return the recall at k  of recommended items in the top-k set that are relevant\n",
    "    :param data: dataframe that will be calculated the recall at k position\n",
    "    :param k: int, default=2000, position that the metric will be calculated default='2000'\n",
    "    :return: a float value\n",
    "    \"\"\"\n",
    "    # reset index\n",
    "    data = data.reset_index( drop=True )\n",
    "\n",
    "    # create ranking order\n",
    "    data['ranking'] = data.index + 1\n",
    "\n",
    "    data['recall_at_k'] = data['response'].cumsum() / data['response'].sum()\n",
    "\n",
    "    return data.loc[k, 'recall_at_k']\n",
    "\n",
    "\n",
    "def performace(model_name, data, y_val, yhat_class, k=200):\n",
    "    \"\"\"\n",
    "\n",
    "    :param model_name: string, with the name of the algoritm that will be used\n",
    "    :param data: dataframe sorted by  probabilit given to each iten by the model\n",
    "    :param y_val: list of the target variable of the dataframe\n",
    "    :param yhat_class: binary prediction made by the model for each iten\n",
    "    :param k: int, default=2000 position that the metric will be calculated default='2000'\n",
    "    :return: a dataframe with the metrics: [precision,recall, balanced accuracy, precision at k, recall at k]\n",
    "    \"\"\"\n",
    "    import sklearn.metrics\n",
    "    prec = sklearn.metrics.precision_score(y_val, yhat_class,average='macro')\n",
    "    recal = sklearn.metrics.recall_score(y_val, yhat_class,average='macro')\n",
    "    balanced_acc = sklearn.metrics.balanced_accuracy_score(y_val, yhat_class)\n",
    "    recal_k = recall_at_k(data, k)\n",
    "    prec_k = precision_at_k(data, k)\n",
    "\n",
    "    return pd.DataFrame({'Model Name': model_name,\n",
    "                         'Precison': prec,\n",
    "                         'Recall': recal,\n",
    "                         'Balanced_acc': balanced_acc,\n",
    "                         'k': k,\n",
    "                         'Precison at k': prec_k,\n",
    "                         'Recall at k': recal_k}, index=[0])\n",
    "\n"
   ]
  },
  {
   "cell_type": "code",
   "execution_count": 45,
   "id": "a1e456d6",
   "metadata": {
    "ExecuteTime": {
     "end_time": "2023-02-24T13:09:36.235087Z",
     "start_time": "2023-02-24T13:09:36.191315Z"
    },
    "hidden": true
   },
   "outputs": [],
   "source": [
    "def performace_cross_val(data, target, model, model_name, round_n=4, splits=3, shuffle_n=True, random=42, k=200):\n",
    "    \"\"\"\n",
    "    this cross-validation object uses kfold with stratified folds and return the metrics\n",
    "    :param data: dataframe\n",
    "    :param target: string, name of the target variable\n",
    "    :param model: model that will be used\n",
    "    :param model_name: string with the model name\n",
    "    :param round_n: int, default=5number of decimal points of the float values that will be returned\n",
    "    :param splits: int, default=5, number of folds\n",
    "    :param shuffle_n:bool, default=True, Whether to shuffle each class’s samples before splitting into batches\n",
    "    :param random: int, default=42 controls the randomness of each fold\n",
    "    :param k: int, default=2000 position that the metric will be calculated default='2000'\n",
    "    :return: a dataframe with the mean and standard deviation of the metrics: [precision,recall, balanced accuracy, precision at k, recall at k]\n",
    "    \"\"\"\n",
    "    import sklearn.model_selection as ms\n",
    "    import sklearn.metrics\n",
    "    import numpy as np\n",
    "    skf = ms.StratifiedKFold(n_splits=splits, shuffle=shuffle_n, random_state=random)\n",
    "    X = data\n",
    "    y = X[target]\n",
    "    X = X.drop(columns=[target, 'id'])\n",
    "    precision = []\n",
    "    recall = []\n",
    "    balan_acc = []\n",
    "    prec_k = []\n",
    "    rec_k = []\n",
    "    for train_index, test_index in skf.split(X, y):\n",
    "        # train the model\n",
    "        model.fit(X.iloc[train_index], y.iloc[train_index].values.ravel())\n",
    "\n",
    "        # predict the classification\n",
    "        yhat_class = model.predict(X.iloc[test_index])\n",
    "\n",
    "        # predict the probabilit\n",
    "        yhat_proba = model.predict_proba(X.iloc[test_index])\n",
    "\n",
    "        # precision and recall\n",
    "        prec = sklearn.metrics.precision_score(y.iloc[test_index], yhat_class,average='macro')\n",
    "        rec = sklearn.metrics.recall_score(y.iloc[test_index], yhat_class,average='macro')\n",
    "        balan_acc_score = sklearn.metrics.balanced_accuracy_score(y.iloc[test_index], yhat_class)\n",
    "        precision.append(prec)\n",
    "        recall.append(rec)\n",
    "        balan_acc.append(balan_acc_score)\n",
    "\n",
    "        # sort the test dataframe by the probabiliti score of the model\n",
    "        aux = X.iloc[test_index]\n",
    "        aux[target] = y.iloc[test_index]\n",
    "        aux['score'] = yhat_proba[:, 1].tolist()\n",
    "\n",
    "        # sorte by score\n",
    "        aux = aux.sort_values('score', ascending=False)\n",
    "\n",
    "        # precision and recall at k\n",
    "        prec_k.append(precision_at_k(aux, k))\n",
    "        rec_k.append(recall_at_k(aux, k))\n",
    "\n",
    "    # return a dataset with the metrics\n",
    "    return pd.DataFrame({'model name': model_name + \" CV\",\n",
    "                        'precision_cv': np.round(np.mean(precision), round_n),\n",
    "                        'prec_std': np.round(np.std(precision), round_n),\n",
    "                        'recall_cv': np.round(np.mean(recall), round_n),\n",
    "                        'rec_std': np.round(np.std(recall), round_n),\n",
    "                        'balanced_acc_cv': np.round(np.mean(balan_acc), round_n),\n",
    "                        'bal_std': np.round(np.std(balan_acc), round_n),\n",
    "                        'k': k,\n",
    "                        'precision_at_k_cv': np.round(np.mean(prec_k), round_n),\n",
    "                        'perc_k_std': np.round(np.std(prec_k), round_n),\n",
    "                        'recall_at_k_cv': np.round(np.mean(rec_k), round_n),\n",
    "                        'rec_k_std': np.round(np.std(rec_k))}, index=[0])\n",
    "\n",
    "\n"
   ]
  },
  {
   "cell_type": "markdown",
   "id": "d2650453",
   "metadata": {},
   "source": [
    "# Load data "
   ]
  },
  {
   "cell_type": "code",
   "execution_count": 46,
   "id": "7ff101ee",
   "metadata": {
    "ExecuteTime": {
     "end_time": "2023-02-24T13:09:36.281963Z",
     "start_time": "2023-02-24T13:09:36.235087Z"
    }
   },
   "outputs": [],
   "source": [
    "path_local = 'C:/Users/Lavin/Documents/desafios/ifood/'\n",
    "df6 = pd.read_csv(path_local + 'data/processed/df5.csv')"
   ]
  },
  {
   "cell_type": "code",
   "execution_count": 47,
   "id": "a407f179",
   "metadata": {
    "ExecuteTime": {
     "end_time": "2023-02-24T13:09:36.335453Z",
     "start_time": "2023-02-24T13:09:36.281963Z"
    }
   },
   "outputs": [],
   "source": [
    "train = pd.read_csv(path_local + 'src/data/df_train.csv')\n",
    "val   = pd.read_csv(path_local + 'src/data/df_val.csv')"
   ]
  },
  {
   "cell_type": "markdown",
   "id": "72d79f16",
   "metadata": {
    "ExecuteTime": {
     "end_time": "2023-02-13T21:42:40.513696Z",
     "start_time": "2023-02-13T21:42:40.466806Z"
    }
   },
   "source": [
    "## Split train and test"
   ]
  },
  {
   "cell_type": "code",
   "execution_count": 48,
   "id": "f4a69e69",
   "metadata": {
    "ExecuteTime": {
     "end_time": "2023-02-24T13:09:36.351074Z",
     "start_time": "2023-02-24T13:09:36.335453Z"
    }
   },
   "outputs": [],
   "source": [
    "X_train = train.copy()\n",
    "y_train = X_train['response']\n",
    "X_train = X_train.drop(columns=['id','response'])"
   ]
  },
  {
   "cell_type": "code",
   "execution_count": 49,
   "id": "0ae9ae7d",
   "metadata": {
    "ExecuteTime": {
     "end_time": "2023-02-24T13:09:36.366702Z",
     "start_time": "2023-02-24T13:09:36.351074Z"
    }
   },
   "outputs": [],
   "source": [
    "x_val = val.copy()\n",
    "y_val = x_val['response']\n",
    "x_val = x_val.drop(columns=['id','response'])"
   ]
  },
  {
   "cell_type": "markdown",
   "id": "b0ed0764",
   "metadata": {
    "cell_id": "00015-e802f5a4-b869-4d12-8fa2-9235c385383f",
    "deepnote_cell_height": 81.60000610351562,
    "deepnote_cell_type": "markdown",
    "id": "20xUhtqXPrZa"
   },
   "source": [
    "# 10.0 Fine tuning"
   ]
  },
  {
   "cell_type": "code",
   "execution_count": 50,
   "id": "8b29c791",
   "metadata": {
    "ExecuteTime": {
     "end_time": "2023-02-24T13:09:36.397952Z",
     "start_time": "2023-02-24T13:09:36.366702Z"
    }
   },
   "outputs": [],
   "source": [
    "# declarando espaço  dos parametros\n",
    "param = {\"max_depth\": [None],\n",
    "              \"max_features\": [1, 3,5, 7],\n",
    "              \"min_samples_split\": [2, 3,5, 7],\n",
    "              \"min_samples_leaf\": [1, 3,5, 7],\n",
    "              \"n_estimators\" :[100,300,400,600],\n",
    "              \"criterion\": [\"gini\"]}\n",
    "# numero de tentativas\n",
    "MAX_EVAL = 100"
   ]
  },
  {
   "cell_type": "markdown",
   "id": "fff7f784",
   "metadata": {},
   "source": [
    "**GRID SEARCH**"
   ]
  },
  {
   "cell_type": "code",
   "execution_count": 51,
   "id": "54b22a5a",
   "metadata": {
    "ExecuteTime": {
     "end_time": "2023-02-24T13:09:36.413577Z",
     "start_time": "2023-02-24T13:09:36.397952Z"
    },
    "scrolled": true
   },
   "outputs": [],
   "source": [
    "# import random\n",
    "# #dataframes para armazenar valores de parametros e resultados\n",
    "# final_result = pd.DataFrame()\n",
    "# params_result = pd.DataFrame()\n",
    "\n",
    "# #loop de treino\n",
    "# for i in range( MAX_EVAL ):\n",
    "#    # escolha valores para os parâmetros aleatoriamente\n",
    "#     hp = { k: random.sample( v, 1 )[0] for k, v in param.items() }\n",
    "#     aux = pd.DataFrame(hp,index=[i])\n",
    "#     params_result = pd.concat([params_result,aux])\n",
    "   \n",
    "#    # model\n",
    "#     brf_model = BalancedRandomForestClassifier(n_jobs=-1,random_state=42,warm_start=True,\n",
    "#                                                max_depth = hp['max_depth'],\n",
    "#                                                max_features = hp['max_features'],\n",
    "#                                                min_samples_split = hp['min_samples_split'],\n",
    "#                                                min_samples_leaf = hp['min_samples_leaf'],\n",
    "#                                                n_estimators = hp['n_estimators'],\n",
    "#                                                criterion = hp['criterion'])\n",
    "\n",
    "#    # performance\n",
    "#     result = performace_cross_val(df6,'response',brf_model,'balanced rf ' + str(i),k=300)\n",
    "#     final_result = pd.concat( [final_result, result] )"
   ]
  },
  {
   "cell_type": "code",
   "execution_count": 52,
   "id": "58032285",
   "metadata": {
    "ExecuteTime": {
     "end_time": "2023-02-24T13:09:36.435732Z",
     "start_time": "2023-02-24T13:09:36.413577Z"
    }
   },
   "outputs": [],
   "source": [
    "#final_result.sort_values(by='recall_at_k_cv',ascending=False)"
   ]
  },
  {
   "cell_type": "code",
   "execution_count": 53,
   "id": "de219b0f",
   "metadata": {
    "ExecuteTime": {
     "end_time": "2023-02-24T13:09:36.451355Z",
     "start_time": "2023-02-24T13:09:36.435732Z"
    }
   },
   "outputs": [],
   "source": [
    "#params_result"
   ]
  },
  {
   "cell_type": "markdown",
   "id": "ad23bb16",
   "metadata": {
    "cell_id": "00020-ee979896-bb38-4467-b22e-8003e0d9b462",
    "deepnote_cell_height": 69.60000610351562,
    "deepnote_cell_type": "markdown",
    "id": "StriW-mEPrZd"
   },
   "source": [
    "# 11 Final model"
   ]
  },
  {
   "cell_type": "code",
   "execution_count": 54,
   "id": "bb4ec372",
   "metadata": {
    "ExecuteTime": {
     "end_time": "2023-02-24T13:09:36.466980Z",
     "start_time": "2023-02-24T13:09:36.451355Z"
    }
   },
   "outputs": [],
   "source": [
    "# parametros escolhidos\n",
    "final_params = {'max_depth': None,\n",
    "                 'max_features': 5,\n",
    "                 'min_samples_split': 2,\n",
    "                 'min_samples_leaf': 1,\n",
    "                 'n_estimators': 100,\n",
    "                 'criterion': 'gini'}"
   ]
  },
  {
   "cell_type": "code",
   "execution_count": 55,
   "id": "b09b725f",
   "metadata": {
    "ExecuteTime": {
     "end_time": "2023-02-24T13:09:36.482605Z",
     "start_time": "2023-02-24T13:09:36.466980Z"
    },
    "cell_id": "00021-f4bab372-bb15-4b26-a4de-f6769167124c",
    "colab": {
     "base_uri": "https://localhost:8080/"
    },
    "deepnote_cell_height": 168.39999389648438,
    "deepnote_cell_type": "code",
    "deepnote_output_heights": [
     59
    ],
    "deepnote_to_be_reexecuted": false,
    "executionInfo": {
     "elapsed": 4787,
     "status": "ok",
     "timestamp": 1665685524783,
     "user": {
      "displayName": "Lavis",
      "userId": "11464059397454562428"
     },
     "user_tz": 180
    },
    "execution_millis": 3,
    "execution_start": 1663115839990,
    "id": "_x2JOJctPrZd",
    "outputId": "e4429466-a399-4ba5-ed50-ddbe95242fb9",
    "source_hash": "d481df20"
   },
   "outputs": [],
   "source": [
    "# model\n",
    "brf_model = BalancedRandomForestClassifier(n_jobs=-1,random_state=42,warm_start=True,\n",
    "                                               max_depth = final_params['max_depth'],\n",
    "                                               max_features = final_params['max_features'],\n",
    "                                               min_samples_split = final_params['min_samples_split'],\n",
    "                                               min_samples_leaf = final_params['min_samples_leaf'],\n",
    "                                               n_estimators = final_params['n_estimators'],\n",
    "                                               criterion = final_params['criterion'])"
   ]
  },
  {
   "cell_type": "code",
   "execution_count": 56,
   "id": "b7d18fc4",
   "metadata": {
    "ExecuteTime": {
     "end_time": "2023-02-24T13:09:37.083886Z",
     "start_time": "2023-02-24T13:09:36.482605Z"
    }
   },
   "outputs": [
    {
     "data": {
      "text/html": [
       "<style>#sk-container-id-2 {color: black;background-color: white;}#sk-container-id-2 pre{padding: 0;}#sk-container-id-2 div.sk-toggleable {background-color: white;}#sk-container-id-2 label.sk-toggleable__label {cursor: pointer;display: block;width: 100%;margin-bottom: 0;padding: 0.3em;box-sizing: border-box;text-align: center;}#sk-container-id-2 label.sk-toggleable__label-arrow:before {content: \"▸\";float: left;margin-right: 0.25em;color: #696969;}#sk-container-id-2 label.sk-toggleable__label-arrow:hover:before {color: black;}#sk-container-id-2 div.sk-estimator:hover label.sk-toggleable__label-arrow:before {color: black;}#sk-container-id-2 div.sk-toggleable__content {max-height: 0;max-width: 0;overflow: hidden;text-align: left;background-color: #f0f8ff;}#sk-container-id-2 div.sk-toggleable__content pre {margin: 0.2em;color: black;border-radius: 0.25em;background-color: #f0f8ff;}#sk-container-id-2 input.sk-toggleable__control:checked~div.sk-toggleable__content {max-height: 200px;max-width: 100%;overflow: auto;}#sk-container-id-2 input.sk-toggleable__control:checked~label.sk-toggleable__label-arrow:before {content: \"▾\";}#sk-container-id-2 div.sk-estimator input.sk-toggleable__control:checked~label.sk-toggleable__label {background-color: #d4ebff;}#sk-container-id-2 div.sk-label input.sk-toggleable__control:checked~label.sk-toggleable__label {background-color: #d4ebff;}#sk-container-id-2 input.sk-hidden--visually {border: 0;clip: rect(1px 1px 1px 1px);clip: rect(1px, 1px, 1px, 1px);height: 1px;margin: -1px;overflow: hidden;padding: 0;position: absolute;width: 1px;}#sk-container-id-2 div.sk-estimator {font-family: monospace;background-color: #f0f8ff;border: 1px dotted black;border-radius: 0.25em;box-sizing: border-box;margin-bottom: 0.5em;}#sk-container-id-2 div.sk-estimator:hover {background-color: #d4ebff;}#sk-container-id-2 div.sk-parallel-item::after {content: \"\";width: 100%;border-bottom: 1px solid gray;flex-grow: 1;}#sk-container-id-2 div.sk-label:hover label.sk-toggleable__label {background-color: #d4ebff;}#sk-container-id-2 div.sk-serial::before {content: \"\";position: absolute;border-left: 1px solid gray;box-sizing: border-box;top: 0;bottom: 0;left: 50%;z-index: 0;}#sk-container-id-2 div.sk-serial {display: flex;flex-direction: column;align-items: center;background-color: white;padding-right: 0.2em;padding-left: 0.2em;position: relative;}#sk-container-id-2 div.sk-item {position: relative;z-index: 1;}#sk-container-id-2 div.sk-parallel {display: flex;align-items: stretch;justify-content: center;background-color: white;position: relative;}#sk-container-id-2 div.sk-item::before, #sk-container-id-2 div.sk-parallel-item::before {content: \"\";position: absolute;border-left: 1px solid gray;box-sizing: border-box;top: 0;bottom: 0;left: 50%;z-index: -1;}#sk-container-id-2 div.sk-parallel-item {display: flex;flex-direction: column;z-index: 1;position: relative;background-color: white;}#sk-container-id-2 div.sk-parallel-item:first-child::after {align-self: flex-end;width: 50%;}#sk-container-id-2 div.sk-parallel-item:last-child::after {align-self: flex-start;width: 50%;}#sk-container-id-2 div.sk-parallel-item:only-child::after {width: 0;}#sk-container-id-2 div.sk-dashed-wrapped {border: 1px dashed gray;margin: 0 0.4em 0.5em 0.4em;box-sizing: border-box;padding-bottom: 0.4em;background-color: white;}#sk-container-id-2 div.sk-label label {font-family: monospace;font-weight: bold;display: inline-block;line-height: 1.2em;}#sk-container-id-2 div.sk-label-container {text-align: center;}#sk-container-id-2 div.sk-container {/* jupyter's `normalize.less` sets `[hidden] { display: none; }` but bootstrap.min.css set `[hidden] { display: none !important; }` so we also need the `!important` here to be able to override the default hidden behavior on the sphinx rendered scikit-learn.org. See: https://github.com/scikit-learn/scikit-learn/issues/21755 */display: inline-block !important;position: relative;}#sk-container-id-2 div.sk-text-repr-fallback {display: none;}</style><div id=\"sk-container-id-2\" class=\"sk-top-container\"><div class=\"sk-text-repr-fallback\"><pre>BalancedRandomForestClassifier(max_features=5, n_jobs=-1, random_state=42,\n",
       "                               warm_start=True)</pre><b>In a Jupyter environment, please rerun this cell to show the HTML representation or trust the notebook. <br />On GitHub, the HTML representation is unable to render, please try loading this page with nbviewer.org.</b></div><div class=\"sk-container\" hidden><div class=\"sk-item\"><div class=\"sk-estimator sk-toggleable\"><input class=\"sk-toggleable__control sk-hidden--visually\" id=\"sk-estimator-id-2\" type=\"checkbox\" checked><label for=\"sk-estimator-id-2\" class=\"sk-toggleable__label sk-toggleable__label-arrow\">BalancedRandomForestClassifier</label><div class=\"sk-toggleable__content\"><pre>BalancedRandomForestClassifier(max_features=5, n_jobs=-1, random_state=42,\n",
       "                               warm_start=True)</pre></div></div></div></div></div>"
      ],
      "text/plain": [
       "BalancedRandomForestClassifier(max_features=5, n_jobs=-1, random_state=42,\n",
       "                               warm_start=True)"
      ]
     },
     "execution_count": 56,
     "metadata": {},
     "output_type": "execute_result"
    }
   ],
   "source": [
    "# treino\n",
    "brf_model.fit(X_train,y_train.values.ravel())"
   ]
  },
  {
   "cell_type": "code",
   "execution_count": 57,
   "id": "c2620a12",
   "metadata": {
    "ExecuteTime": {
     "end_time": "2023-02-24T13:09:37.199567Z",
     "start_time": "2023-02-24T13:09:37.083886Z"
    },
    "cell_id": "00021-f4bab372-bb15-4b26-a4de-f6769167124c",
    "colab": {
     "base_uri": "https://localhost:8080/"
    },
    "deepnote_cell_height": 168.39999389648438,
    "deepnote_cell_type": "code",
    "deepnote_output_heights": [
     59
    ],
    "deepnote_to_be_reexecuted": false,
    "executionInfo": {
     "elapsed": 4787,
     "status": "ok",
     "timestamp": 1665685524783,
     "user": {
      "displayName": "Lavis",
      "userId": "11464059397454562428"
     },
     "user_tz": 180
    },
    "execution_millis": 3,
    "execution_start": 1663115839990,
    "id": "_x2JOJctPrZd",
    "outputId": "e4429466-a399-4ba5-ed50-ddbe95242fb9",
    "source_hash": "d481df20"
   },
   "outputs": [],
   "source": [
    "#model prediction proba - poder de generalização\n",
    "yhat_brf_proba = brf_model.predict_proba( x_val )\n",
    "\n",
    "#model prediction - poder de generalização\n",
    "yhat_brf_class = brf_model.predict( x_val )"
   ]
  },
  {
   "cell_type": "code",
   "execution_count": 58,
   "id": "4ca6f813",
   "metadata": {
    "ExecuteTime": {
     "end_time": "2023-02-24T13:09:38.039612Z",
     "start_time": "2023-02-24T13:09:37.203571Z"
    },
    "cell_id": "00021-f4bab372-bb15-4b26-a4de-f6769167124c",
    "colab": {
     "base_uri": "https://localhost:8080/"
    },
    "deepnote_cell_height": 168.39999389648438,
    "deepnote_cell_type": "code",
    "deepnote_output_heights": [
     59
    ],
    "deepnote_to_be_reexecuted": false,
    "executionInfo": {
     "elapsed": 4787,
     "status": "ok",
     "timestamp": 1665685524783,
     "user": {
      "displayName": "Lavis",
      "userId": "11464059397454562428"
     },
     "user_tz": 180
    },
    "execution_millis": 3,
    "execution_start": 1663115839990,
    "id": "_x2JOJctPrZd",
    "outputId": "e4429466-a399-4ba5-ed50-ddbe95242fb9",
    "source_hash": "d481df20"
   },
   "outputs": [
    {
     "data": {
      "image/png": "[encoded data removed]",
      "text/plain": [
       "<Figure size 2500x1200 with 2 Axes>"
      ]
     },
     "metadata": {},
     "output_type": "display_data"
    }
   ],
   "source": [
    "fig ,ax = plt.subplots(1,2)\n",
    "skplt.metrics.plot_cumulative_gain(y_val,yhat_brf_proba,ax=ax[0]);\n",
    "skplt.metrics.plot_lift_curve(y_val,yhat_brf_proba,ax=ax[1]);"
   ]
  },
  {
   "cell_type": "markdown",
   "id": "051dd0be",
   "metadata": {
    "cell_id": "00036-e6b2d869-4189-43cf-8f7e-6c63eee6eba7",
    "deepnote_cell_height": 81.60000610351562,
    "deepnote_cell_type": "markdown",
    "id": "xEk7-X4IPrZi"
   },
   "source": [
    "## 11.1  Model performace "
   ]
  },
  {
   "cell_type": "code",
   "execution_count": 59,
   "id": "1dd62dba",
   "metadata": {
    "ExecuteTime": {
     "end_time": "2023-02-24T13:09:38.055278Z",
     "start_time": "2023-02-24T13:09:38.039612Z"
    },
    "cell_id": "00037-ec461c44-3aac-4dc3-9f36-550ab0bb9f98",
    "deepnote_cell_height": 75.60000610351562,
    "deepnote_cell_type": "code",
    "deepnote_to_be_reexecuted": false,
    "executionInfo": {
     "elapsed": 21,
     "status": "ok",
     "timestamp": 1665685802078,
     "user": {
      "displayName": "Lavis",
      "userId": "11464059397454562428"
     },
     "user_tz": 180
    },
    "execution_millis": 19,
    "execution_start": 1663075829696,
    "id": "vFpHmEW1PrZi",
    "source_hash": "5100a059"
   },
   "outputs": [],
   "source": [
    "clients = 200"
   ]
  },
  {
   "cell_type": "code",
   "execution_count": 60,
   "id": "9770dd43",
   "metadata": {
    "ExecuteTime": {
     "end_time": "2023-02-24T13:09:38.070860Z",
     "start_time": "2023-02-24T13:09:38.055278Z"
    },
    "cell_id": "00045-39b57d7f-fcf5-40c4-9d68-d0ccd1331b48",
    "deepnote_cell_height": 75.60000610351562,
    "deepnote_cell_type": "code",
    "deepnote_to_be_reexecuted": false,
    "executionInfo": {
     "elapsed": 21,
     "status": "ok",
     "timestamp": 1665685802083,
     "user": {
      "displayName": "Lavis",
      "userId": "11464059397454562428"
     },
     "user_tz": 180
    },
    "execution_millis": 3,
    "execution_start": 1663075829945,
    "id": "GEBp5k4SPrZk",
    "source_hash": "ed4ec854"
   },
   "outputs": [],
   "source": [
    "brf_df = val.copy()"
   ]
  },
  {
   "cell_type": "code",
   "execution_count": 61,
   "id": "ac0a59d0",
   "metadata": {
    "ExecuteTime": {
     "end_time": "2023-02-24T13:09:38.086485Z",
     "start_time": "2023-02-24T13:09:38.070860Z"
    },
    "cell_id": "00045-39b57d7f-fcf5-40c4-9d68-d0ccd1331b48",
    "deepnote_cell_height": 75.60000610351562,
    "deepnote_cell_type": "code",
    "deepnote_to_be_reexecuted": false,
    "executionInfo": {
     "elapsed": 21,
     "status": "ok",
     "timestamp": 1665685802083,
     "user": {
      "displayName": "Lavis",
      "userId": "11464059397454562428"
     },
     "user_tz": 180
    },
    "execution_millis": 3,
    "execution_start": 1663075829945,
    "id": "GEBp5k4SPrZk",
    "source_hash": "ed4ec854"
   },
   "outputs": [],
   "source": [
    "brf_df['score_brf'] = yhat_brf_proba[:,1].tolist()\n",
    "#sort by score\n",
    "\n",
    "brf_df = brf_df.sort_values('score_brf',ascending=False)"
   ]
  },
  {
   "cell_type": "code",
   "execution_count": 62,
   "id": "f787108f",
   "metadata": {
    "ExecuteTime": {
     "end_time": "2023-02-24T13:09:38.139904Z",
     "start_time": "2023-02-24T13:09:38.086485Z"
    },
    "cell_id": "00045-39b57d7f-fcf5-40c4-9d68-d0ccd1331b48",
    "deepnote_cell_height": 75.60000610351562,
    "deepnote_cell_type": "code",
    "deepnote_to_be_reexecuted": false,
    "executionInfo": {
     "elapsed": 21,
     "status": "ok",
     "timestamp": 1665685802083,
     "user": {
      "displayName": "Lavis",
      "userId": "11464059397454562428"
     },
     "user_tz": 180
    },
    "execution_millis": 3,
    "execution_start": 1663075829945,
    "id": "GEBp5k4SPrZk",
    "source_hash": "ed4ec854"
   },
   "outputs": [
    {
     "data": {
      "text/html": [
       "<div>\n",
       "<style scoped>\n",
       "    .dataframe tbody tr th:only-of-type {\n",
       "        vertical-align: middle;\n",
       "    }\n",
       "\n",
       "    .dataframe tbody tr th {\n",
       "        vertical-align: top;\n",
       "    }\n",
       "\n",
       "    .dataframe thead th {\n",
       "        text-align: right;\n",
       "    }\n",
       "</style>\n",
       "<table border=\"1\" class=\"dataframe\">\n",
       "  <thead>\n",
       "    <tr style=\"text-align: right;\">\n",
       "      <th></th>\n",
       "      <th>id</th>\n",
       "      <th>marital_status</th>\n",
       "      <th>income</th>\n",
       "      <th>recency</th>\n",
       "      <th>mnt_wines</th>\n",
       "      <th>mnt_fruits</th>\n",
       "      <th>mnt_meat_products</th>\n",
       "      <th>mnt_fish_products</th>\n",
       "      <th>mnt_sweet_products</th>\n",
       "      <th>mnt_gold_prods</th>\n",
       "      <th>...</th>\n",
       "      <th>accepted_cmp5</th>\n",
       "      <th>accepted_cmp1</th>\n",
       "      <th>age</th>\n",
       "      <th>n_family_members</th>\n",
       "      <th>days_since_signup</th>\n",
       "      <th>income_per_member</th>\n",
       "      <th>total_spent</th>\n",
       "      <th>total_accepted</th>\n",
       "      <th>response</th>\n",
       "      <th>score_brf</th>\n",
       "    </tr>\n",
       "  </thead>\n",
       "  <tbody>\n",
       "    <tr>\n",
       "      <th>561</th>\n",
       "      <td>3584</td>\n",
       "      <td>0.22</td>\n",
       "      <td>0.298362</td>\n",
       "      <td>0.353535</td>\n",
       "      <td>0.791025</td>\n",
       "      <td>0.130653</td>\n",
       "      <td>0.121951</td>\n",
       "      <td>0.065637</td>\n",
       "      <td>0.049618</td>\n",
       "      <td>0.121495</td>\n",
       "      <td>...</td>\n",
       "      <td>0</td>\n",
       "      <td>0</td>\n",
       "      <td>0.732143</td>\n",
       "      <td>1</td>\n",
       "      <td>0.969957</td>\n",
       "      <td>0.318217</td>\n",
       "      <td>0.551984</td>\n",
       "      <td>1</td>\n",
       "      <td>1</td>\n",
       "      <td>0.926667</td>\n",
       "    </tr>\n",
       "    <tr>\n",
       "      <th>65</th>\n",
       "      <td>830</td>\n",
       "      <td>0.22</td>\n",
       "      <td>0.449837</td>\n",
       "      <td>0.050505</td>\n",
       "      <td>0.525117</td>\n",
       "      <td>0.241206</td>\n",
       "      <td>0.569106</td>\n",
       "      <td>0.162162</td>\n",
       "      <td>0.671756</td>\n",
       "      <td>0.149533</td>\n",
       "      <td>...</td>\n",
       "      <td>1</td>\n",
       "      <td>1</td>\n",
       "      <td>0.160714</td>\n",
       "      <td>1</td>\n",
       "      <td>0.178827</td>\n",
       "      <td>0.477368</td>\n",
       "      <td>0.655952</td>\n",
       "      <td>2</td>\n",
       "      <td>1</td>\n",
       "      <td>0.920000</td>\n",
       "    </tr>\n",
       "    <tr>\n",
       "      <th>156</th>\n",
       "      <td>3725</td>\n",
       "      <td>0.22</td>\n",
       "      <td>0.517437</td>\n",
       "      <td>0.010101</td>\n",
       "      <td>0.835901</td>\n",
       "      <td>0.080402</td>\n",
       "      <td>0.354675</td>\n",
       "      <td>0.166023</td>\n",
       "      <td>0.061069</td>\n",
       "      <td>0.049844</td>\n",
       "      <td>...</td>\n",
       "      <td>1</td>\n",
       "      <td>1</td>\n",
       "      <td>0.625000</td>\n",
       "      <td>1</td>\n",
       "      <td>0.595136</td>\n",
       "      <td>0.548393</td>\n",
       "      <td>0.667857</td>\n",
       "      <td>4</td>\n",
       "      <td>1</td>\n",
       "      <td>0.920000</td>\n",
       "    </tr>\n",
       "    <tr>\n",
       "      <th>385</th>\n",
       "      <td>3005</td>\n",
       "      <td>0.22</td>\n",
       "      <td>0.509115</td>\n",
       "      <td>0.070707</td>\n",
       "      <td>0.354990</td>\n",
       "      <td>0.587940</td>\n",
       "      <td>0.689024</td>\n",
       "      <td>0.517375</td>\n",
       "      <td>0.167939</td>\n",
       "      <td>0.457944</td>\n",
       "      <td>...</td>\n",
       "      <td>0</td>\n",
       "      <td>1</td>\n",
       "      <td>0.071429</td>\n",
       "      <td>1</td>\n",
       "      <td>0.084406</td>\n",
       "      <td>0.539649</td>\n",
       "      <td>0.652778</td>\n",
       "      <td>2</td>\n",
       "      <td>1</td>\n",
       "      <td>0.910000</td>\n",
       "    </tr>\n",
       "    <tr>\n",
       "      <th>476</th>\n",
       "      <td>3619</td>\n",
       "      <td>0.11</td>\n",
       "      <td>0.532623</td>\n",
       "      <td>0.191919</td>\n",
       "      <td>0.231078</td>\n",
       "      <td>0.125628</td>\n",
       "      <td>0.509146</td>\n",
       "      <td>0.243243</td>\n",
       "      <td>0.526718</td>\n",
       "      <td>0.249221</td>\n",
       "      <td>...</td>\n",
       "      <td>1</td>\n",
       "      <td>0</td>\n",
       "      <td>0.642857</td>\n",
       "      <td>1</td>\n",
       "      <td>0.921316</td>\n",
       "      <td>0.564349</td>\n",
       "      <td>0.455159</td>\n",
       "      <td>1</td>\n",
       "      <td>1</td>\n",
       "      <td>0.910000</td>\n",
       "    </tr>\n",
       "  </tbody>\n",
       "</table>\n",
       "<p>5 rows × 26 columns</p>\n",
       "</div>"
      ],
      "text/plain": [
       "       id  marital_status    income   recency  mnt_wines  mnt_fruits  \\\n",
       "561  3584            0.22  0.298362  0.353535   0.791025    0.130653   \n",
       "65    830            0.22  0.449837  0.050505   0.525117    0.241206   \n",
       "156  3725            0.22  0.517437  0.010101   0.835901    0.080402   \n",
       "385  3005            0.22  0.509115  0.070707   0.354990    0.587940   \n",
       "476  3619            0.11  0.532623  0.191919   0.231078    0.125628   \n",
       "\n",
       "     mnt_meat_products  mnt_fish_products  mnt_sweet_products  mnt_gold_prods  \\\n",
       "561           0.121951           0.065637            0.049618        0.121495   \n",
       "65            0.569106           0.162162            0.671756        0.149533   \n",
       "156           0.354675           0.166023            0.061069        0.049844   \n",
       "385           0.689024           0.517375            0.167939        0.457944   \n",
       "476           0.509146           0.243243            0.526718        0.249221   \n",
       "\n",
       "     ...  accepted_cmp5  accepted_cmp1       age  n_family_members  \\\n",
       "561  ...              0              0  0.732143                 1   \n",
       "65   ...              1              1  0.160714                 1   \n",
       "156  ...              1              1  0.625000                 1   \n",
       "385  ...              0              1  0.071429                 1   \n",
       "476  ...              1              0  0.642857                 1   \n",
       "\n",
       "     days_since_signup  income_per_member  total_spent  total_accepted  \\\n",
       "561           0.969957           0.318217     0.551984               1   \n",
       "65            0.178827           0.477368     0.655952               2   \n",
       "156           0.595136           0.548393     0.667857               4   \n",
       "385           0.084406           0.539649     0.652778               2   \n",
       "476           0.921316           0.564349     0.455159               1   \n",
       "\n",
       "     response  score_brf  \n",
       "561         1   0.926667  \n",
       "65          1   0.920000  \n",
       "156         1   0.920000  \n",
       "385         1   0.910000  \n",
       "476         1   0.910000  \n",
       "\n",
       "[5 rows x 26 columns]"
      ]
     },
     "execution_count": 62,
     "metadata": {},
     "output_type": "execute_result"
    }
   ],
   "source": [
    "brf_df.head()"
   ]
  },
  {
   "cell_type": "code",
   "execution_count": 63,
   "id": "a19b9866",
   "metadata": {
    "ExecuteTime": {
     "end_time": "2023-02-24T13:09:38.171157Z",
     "start_time": "2023-02-24T13:09:38.139904Z"
    },
    "cell_id": "00045-39b57d7f-fcf5-40c4-9d68-d0ccd1331b48",
    "deepnote_cell_height": 75.60000610351562,
    "deepnote_cell_type": "code",
    "deepnote_to_be_reexecuted": false,
    "executionInfo": {
     "elapsed": 21,
     "status": "ok",
     "timestamp": 1665685802083,
     "user": {
      "displayName": "Lavis",
      "userId": "11464059397454562428"
     },
     "user_tz": 180
    },
    "execution_millis": 3,
    "execution_start": 1663075829945,
    "id": "GEBp5k4SPrZk",
    "source_hash": "ed4ec854"
   },
   "outputs": [],
   "source": [
    "brf_performace = performace(\"balanced random forest\",brf_df,y_val,yhat_brf_class,clients)"
   ]
  },
  {
   "cell_type": "code",
   "execution_count": 64,
   "id": "a719ede6",
   "metadata": {
    "ExecuteTime": {
     "end_time": "2023-02-24T13:09:38.202412Z",
     "start_time": "2023-02-24T13:09:38.171157Z"
    },
    "cell_id": "00045-39b57d7f-fcf5-40c4-9d68-d0ccd1331b48",
    "deepnote_cell_height": 75.60000610351562,
    "deepnote_cell_type": "code",
    "deepnote_to_be_reexecuted": false,
    "executionInfo": {
     "elapsed": 21,
     "status": "ok",
     "timestamp": 1665685802083,
     "user": {
      "displayName": "Lavis",
      "userId": "11464059397454562428"
     },
     "user_tz": 180
    },
    "execution_millis": 3,
    "execution_start": 1663075829945,
    "id": "GEBp5k4SPrZk",
    "source_hash": "ed4ec854"
   },
   "outputs": [
    {
     "data": {
      "text/html": [
       "<div>\n",
       "<style scoped>\n",
       "    .dataframe tbody tr th:only-of-type {\n",
       "        vertical-align: middle;\n",
       "    }\n",
       "\n",
       "    .dataframe tbody tr th {\n",
       "        vertical-align: top;\n",
       "    }\n",
       "\n",
       "    .dataframe thead th {\n",
       "        text-align: right;\n",
       "    }\n",
       "</style>\n",
       "<table border=\"1\" class=\"dataframe\">\n",
       "  <thead>\n",
       "    <tr style=\"text-align: right;\">\n",
       "      <th></th>\n",
       "      <th>Model Name</th>\n",
       "      <th>Precison</th>\n",
       "      <th>Recall</th>\n",
       "      <th>Balanced_acc</th>\n",
       "      <th>k</th>\n",
       "      <th>Precison at k</th>\n",
       "      <th>Recall at k</th>\n",
       "    </tr>\n",
       "  </thead>\n",
       "  <tbody>\n",
       "    <tr>\n",
       "      <th>0</th>\n",
       "      <td>balanced random forest</td>\n",
       "      <td>0.6759</td>\n",
       "      <td>0.788402</td>\n",
       "      <td>0.788402</td>\n",
       "      <td>200</td>\n",
       "      <td>0.39801</td>\n",
       "      <td>0.784314</td>\n",
       "    </tr>\n",
       "  </tbody>\n",
       "</table>\n",
       "</div>"
      ],
      "text/plain": [
       "               Model Name  Precison    Recall  Balanced_acc    k  \\\n",
       "0  balanced random forest    0.6759  0.788402      0.788402  200   \n",
       "\n",
       "   Precison at k  Recall at k  \n",
       "0        0.39801     0.784314  "
      ]
     },
     "execution_count": 64,
     "metadata": {},
     "output_type": "execute_result"
    }
   ],
   "source": [
    "brf_performace"
   ]
  },
  {
   "cell_type": "markdown",
   "id": "c36a2ed4",
   "metadata": {
    "cell_id": "7729b9592a0040b9b48b9c4bf63ea40e",
    "deepnote_cell_height": 81.60000610351562,
    "deepnote_cell_type": "markdown",
    "id": "XSYJ4mjqPrZs",
    "tags": []
   },
   "source": [
    "### 11.1.1 Cross validation"
   ]
  },
  {
   "cell_type": "code",
   "execution_count": 73,
   "id": "97988d69",
   "metadata": {
    "ExecuteTime": {
     "end_time": "2023-02-24T13:15:47.958779Z",
     "start_time": "2023-02-24T13:15:47.627107Z"
    },
    "scrolled": true
   },
   "outputs": [],
   "source": [
    "model_final_perf = performace_cross_val(df6,'response',brf_model,'balanced rf ',k=200)"
   ]
  },
  {
   "cell_type": "code",
   "execution_count": 74,
   "id": "c82576b8",
   "metadata": {
    "ExecuteTime": {
     "end_time": "2023-02-24T13:15:49.093277Z",
     "start_time": "2023-02-24T13:15:49.046406Z"
    }
   },
   "outputs": [
    {
     "data": {
      "text/html": [
       "<div>\n",
       "<style scoped>\n",
       "    .dataframe tbody tr th:only-of-type {\n",
       "        vertical-align: middle;\n",
       "    }\n",
       "\n",
       "    .dataframe tbody tr th {\n",
       "        vertical-align: top;\n",
       "    }\n",
       "\n",
       "    .dataframe thead th {\n",
       "        text-align: right;\n",
       "    }\n",
       "</style>\n",
       "<table border=\"1\" class=\"dataframe\">\n",
       "  <thead>\n",
       "    <tr style=\"text-align: right;\">\n",
       "      <th></th>\n",
       "      <th>model name</th>\n",
       "      <th>precision_cv</th>\n",
       "      <th>prec_std</th>\n",
       "      <th>recall_cv</th>\n",
       "      <th>rec_std</th>\n",
       "      <th>balanced_acc_cv</th>\n",
       "      <th>bal_std</th>\n",
       "      <th>k</th>\n",
       "      <th>precision_at_k_cv</th>\n",
       "      <th>perc_k_std</th>\n",
       "      <th>recall_at_k_cv</th>\n",
       "      <th>rec_k_std</th>\n",
       "    </tr>\n",
       "  </thead>\n",
       "  <tbody>\n",
       "    <tr>\n",
       "      <th>0</th>\n",
       "      <td>balanced rf  CV</td>\n",
       "      <td>0.7353</td>\n",
       "      <td>0.0097</td>\n",
       "      <td>0.8765</td>\n",
       "      <td>0.0106</td>\n",
       "      <td>0.8765</td>\n",
       "      <td>0.0106</td>\n",
       "      <td>200</td>\n",
       "      <td>0.4809</td>\n",
       "      <td>0.0102</td>\n",
       "      <td>0.9355</td>\n",
       "      <td>0.0</td>\n",
       "    </tr>\n",
       "  </tbody>\n",
       "</table>\n",
       "</div>"
      ],
      "text/plain": [
       "        model name  precision_cv  prec_std  recall_cv  rec_std  \\\n",
       "0  balanced rf  CV        0.7353    0.0097     0.8765   0.0106   \n",
       "\n",
       "   balanced_acc_cv  bal_std    k  precision_at_k_cv  perc_k_std  \\\n",
       "0           0.8765   0.0106  200             0.4809      0.0102   \n",
       "\n",
       "   recall_at_k_cv  rec_k_std  \n",
       "0          0.9355        0.0  "
      ]
     },
     "execution_count": 74,
     "metadata": {},
     "output_type": "execute_result"
    }
   ],
   "source": [
    "model_final_perf"
   ]
  },
  {
   "cell_type": "code",
   "execution_count": 70,
   "id": "0cf31ff7",
   "metadata": {
    "ExecuteTime": {
     "end_time": "2023-02-24T13:12:16.726689Z",
     "start_time": "2023-02-24T13:12:16.711024Z"
    }
   },
   "outputs": [],
   "source": [
    "model_final_perf.to_csv(path_local + 'src/data/model_final_perf.csv',index=False)"
   ]
  },
  {
   "cell_type": "markdown",
   "id": "6b9dc118",
   "metadata": {},
   "source": [
    "# 12.0 save final model "
   ]
  },
  {
   "cell_type": "code",
   "execution_count": 66,
   "id": "c26f40d9",
   "metadata": {
    "ExecuteTime": {
     "end_time": "2023-02-24T13:09:38.672157Z",
     "start_time": "2023-02-24T13:09:38.656530Z"
    }
   },
   "outputs": [],
   "source": [
    "#pickle.dump(brf_model,open(path_local + 'src/models/brf_final_model.pkl','wb'))"
   ]
  }
 ],
 "metadata": {
  "kernelspec": {
   "display_name": "Python 3 (ipykernel)",
   "language": "python",
   "name": "python3"
  },
  "language_info": {
   "codemirror_mode": {
    "name": "ipython",
    "version": 3
   },
   "file_extension": ".py",
   "mimetype": "text/x-python",
   "name": "python",
   "nbconvert_exporter": "python",
   "pygments_lexer": "ipython3",
   "version": "3.8.16"
  }
 },
 "nbformat": 4,
 "nbformat_minor": 5
}
