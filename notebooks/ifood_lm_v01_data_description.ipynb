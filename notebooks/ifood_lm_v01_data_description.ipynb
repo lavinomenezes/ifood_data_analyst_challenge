{
 "cells": [
  {
   "cell_type": "markdown",
   "id": "da95f712",
   "metadata": {},
   "source": [
    "# Imports"
   ]
  },
  {
   "cell_type": "code",
   "execution_count": 79,
   "id": "97decc9f",
   "metadata": {
    "ExecuteTime": {
     "end_time": "2023-02-11T16:40:47.767259Z",
     "start_time": "2023-02-11T16:40:47.635731Z"
    }
   },
   "outputs": [],
   "source": [
    "#manipulação de dados\n",
    "import pandas as pd\n",
    "import numpy as np\n",
    "\n",
    "#webscrapling\n",
    "from urllib.request import urlretrieve\n",
    "\n",
    "#processamento de dados\n",
    "import inflection\n",
    "\n",
    "#visualização\n",
    "import matplotlib.pyplot as plt\n",
    "import seaborn           as sns\n",
    "from IPython.core.display import HTML"
   ]
  },
  {
   "cell_type": "markdown",
   "id": "0aba5552",
   "metadata": {
    "heading_collapsed": true
   },
   "source": [
    "## Helper functions"
   ]
  },
  {
   "cell_type": "code",
   "execution_count": 80,
   "id": "7e80a97c",
   "metadata": {
    "ExecuteTime": {
     "end_time": "2023-02-11T16:40:47.851942Z",
     "start_time": "2023-02-11T16:40:47.767259Z"
    },
    "hidden": true
   },
   "outputs": [
    {
     "name": "stdout",
     "output_type": "stream",
     "text": [
      "%pylab is deprecated, use %matplotlib inline and import the required libraries.\n",
      "Populating the interactive namespace from numpy and matplotlib\n"
     ]
    },
    {
     "data": {
      "text/html": [
       "<style>.container { width:100% !important; }</style>"
      ],
      "text/plain": [
       "<IPython.core.display.HTML object>"
      ]
     },
     "metadata": {},
     "output_type": "display_data"
    }
   ],
   "source": [
    "# configuração do jupyter notebook e plotagem de imagens\n",
    "def jupyter_settings():\n",
    "    %matplotlib inline\n",
    "    %pylab inline\n",
    "    plt.style.use( 'bmh' )\n",
    "    plt.rcParams['figure.figsize'] = [25, 12]\n",
    "    plt.rcParams['font.size'] = 24\n",
    "    display( HTML( '<style>.container { width:100% !important; }</style>') )\n",
    "    sns.set()\n",
    "jupyter_settings()"
   ]
  },
  {
   "cell_type": "code",
   "execution_count": 81,
   "id": "82eb3664",
   "metadata": {
    "ExecuteTime": {
     "end_time": "2023-02-11T16:40:47.867570Z",
     "start_time": "2023-02-11T16:40:47.851942Z"
    },
    "hidden": true
   },
   "outputs": [],
   "source": [
    "import warnings\n",
    "warnings.filterwarnings(\"ignore\")"
   ]
  },
  {
   "cell_type": "markdown",
   "id": "d2650453",
   "metadata": {},
   "source": [
    "# 1.0 Load data "
   ]
  },
  {
   "cell_type": "markdown",
   "id": "c04864bb",
   "metadata": {},
   "source": [
    "## 1.1 Get data from github"
   ]
  },
  {
   "cell_type": "code",
   "execution_count": 82,
   "id": "10c3088b",
   "metadata": {
    "ExecuteTime": {
     "end_time": "2023-02-11T16:40:47.883194Z",
     "start_time": "2023-02-11T16:40:47.867570Z"
    }
   },
   "outputs": [],
   "source": [
    "# url = 'https://raw.githubusercontent.com/ifood/ifood-data-business-analyst-test/master/ml_project1_data.csv'"
   ]
  },
  {
   "cell_type": "code",
   "execution_count": 83,
   "id": "10954893",
   "metadata": {
    "ExecuteTime": {
     "end_time": "2023-02-11T16:40:47.905347Z",
     "start_time": "2023-02-11T16:40:47.889708Z"
    }
   },
   "outputs": [],
   "source": [
    "# path_local = 'C:/Users/Lavin/Documents/desafios/ifood/'\n",
    "# filepath = path_local + 'data/raw/data_ifood_raw.csv'\n",
    "# urlretrieve(url,filepath)# "
   ]
  },
  {
   "cell_type": "markdown",
   "id": "2fef93f7",
   "metadata": {},
   "source": [
    "## 1.2 Load from local "
   ]
  },
  {
   "cell_type": "code",
   "execution_count": 84,
   "id": "7ff101ee",
   "metadata": {
    "ExecuteTime": {
     "end_time": "2023-02-11T16:40:47.936430Z",
     "start_time": "2023-02-11T16:40:47.905347Z"
    }
   },
   "outputs": [],
   "source": [
    "path_local = 'C:/Users/Lavin/Documents/desafios/ifood/'\n",
    "data_raw = pd.read_csv(path_local + 'data/raw/data_ifood_raw.csv')"
   ]
  },
  {
   "cell_type": "code",
   "execution_count": 85,
   "id": "4fa9dfad",
   "metadata": {
    "ExecuteTime": {
     "end_time": "2023-02-11T16:40:47.971101Z",
     "start_time": "2023-02-11T16:40:47.939422Z"
    }
   },
   "outputs": [
    {
     "data": {
      "text/html": [
       "<div>\n",
       "<style scoped>\n",
       "    .dataframe tbody tr th:only-of-type {\n",
       "        vertical-align: middle;\n",
       "    }\n",
       "\n",
       "    .dataframe tbody tr th {\n",
       "        vertical-align: top;\n",
       "    }\n",
       "\n",
       "    .dataframe thead th {\n",
       "        text-align: right;\n",
       "    }\n",
       "</style>\n",
       "<table border=\"1\" class=\"dataframe\">\n",
       "  <thead>\n",
       "    <tr style=\"text-align: right;\">\n",
       "      <th></th>\n",
       "      <th>ID</th>\n",
       "      <th>Year_Birth</th>\n",
       "      <th>Education</th>\n",
       "      <th>Marital_Status</th>\n",
       "      <th>Income</th>\n",
       "      <th>Kidhome</th>\n",
       "      <th>Teenhome</th>\n",
       "      <th>Dt_Customer</th>\n",
       "      <th>Recency</th>\n",
       "      <th>MntWines</th>\n",
       "      <th>...</th>\n",
       "      <th>NumWebVisitsMonth</th>\n",
       "      <th>AcceptedCmp3</th>\n",
       "      <th>AcceptedCmp4</th>\n",
       "      <th>AcceptedCmp5</th>\n",
       "      <th>AcceptedCmp1</th>\n",
       "      <th>AcceptedCmp2</th>\n",
       "      <th>Complain</th>\n",
       "      <th>Z_CostContact</th>\n",
       "      <th>Z_Revenue</th>\n",
       "      <th>Response</th>\n",
       "    </tr>\n",
       "  </thead>\n",
       "  <tbody>\n",
       "    <tr>\n",
       "      <th>0</th>\n",
       "      <td>5524</td>\n",
       "      <td>1957</td>\n",
       "      <td>Graduation</td>\n",
       "      <td>Single</td>\n",
       "      <td>58138.0</td>\n",
       "      <td>0</td>\n",
       "      <td>0</td>\n",
       "      <td>2012-09-04</td>\n",
       "      <td>58</td>\n",
       "      <td>635</td>\n",
       "      <td>...</td>\n",
       "      <td>7</td>\n",
       "      <td>0</td>\n",
       "      <td>0</td>\n",
       "      <td>0</td>\n",
       "      <td>0</td>\n",
       "      <td>0</td>\n",
       "      <td>0</td>\n",
       "      <td>3</td>\n",
       "      <td>11</td>\n",
       "      <td>1</td>\n",
       "    </tr>\n",
       "    <tr>\n",
       "      <th>1</th>\n",
       "      <td>2174</td>\n",
       "      <td>1954</td>\n",
       "      <td>Graduation</td>\n",
       "      <td>Single</td>\n",
       "      <td>46344.0</td>\n",
       "      <td>1</td>\n",
       "      <td>1</td>\n",
       "      <td>2014-03-08</td>\n",
       "      <td>38</td>\n",
       "      <td>11</td>\n",
       "      <td>...</td>\n",
       "      <td>5</td>\n",
       "      <td>0</td>\n",
       "      <td>0</td>\n",
       "      <td>0</td>\n",
       "      <td>0</td>\n",
       "      <td>0</td>\n",
       "      <td>0</td>\n",
       "      <td>3</td>\n",
       "      <td>11</td>\n",
       "      <td>0</td>\n",
       "    </tr>\n",
       "    <tr>\n",
       "      <th>2</th>\n",
       "      <td>4141</td>\n",
       "      <td>1965</td>\n",
       "      <td>Graduation</td>\n",
       "      <td>Together</td>\n",
       "      <td>71613.0</td>\n",
       "      <td>0</td>\n",
       "      <td>0</td>\n",
       "      <td>2013-08-21</td>\n",
       "      <td>26</td>\n",
       "      <td>426</td>\n",
       "      <td>...</td>\n",
       "      <td>4</td>\n",
       "      <td>0</td>\n",
       "      <td>0</td>\n",
       "      <td>0</td>\n",
       "      <td>0</td>\n",
       "      <td>0</td>\n",
       "      <td>0</td>\n",
       "      <td>3</td>\n",
       "      <td>11</td>\n",
       "      <td>0</td>\n",
       "    </tr>\n",
       "    <tr>\n",
       "      <th>3</th>\n",
       "      <td>6182</td>\n",
       "      <td>1984</td>\n",
       "      <td>Graduation</td>\n",
       "      <td>Together</td>\n",
       "      <td>26646.0</td>\n",
       "      <td>1</td>\n",
       "      <td>0</td>\n",
       "      <td>2014-02-10</td>\n",
       "      <td>26</td>\n",
       "      <td>11</td>\n",
       "      <td>...</td>\n",
       "      <td>6</td>\n",
       "      <td>0</td>\n",
       "      <td>0</td>\n",
       "      <td>0</td>\n",
       "      <td>0</td>\n",
       "      <td>0</td>\n",
       "      <td>0</td>\n",
       "      <td>3</td>\n",
       "      <td>11</td>\n",
       "      <td>0</td>\n",
       "    </tr>\n",
       "    <tr>\n",
       "      <th>4</th>\n",
       "      <td>5324</td>\n",
       "      <td>1981</td>\n",
       "      <td>PhD</td>\n",
       "      <td>Married</td>\n",
       "      <td>58293.0</td>\n",
       "      <td>1</td>\n",
       "      <td>0</td>\n",
       "      <td>2014-01-19</td>\n",
       "      <td>94</td>\n",
       "      <td>173</td>\n",
       "      <td>...</td>\n",
       "      <td>5</td>\n",
       "      <td>0</td>\n",
       "      <td>0</td>\n",
       "      <td>0</td>\n",
       "      <td>0</td>\n",
       "      <td>0</td>\n",
       "      <td>0</td>\n",
       "      <td>3</td>\n",
       "      <td>11</td>\n",
       "      <td>0</td>\n",
       "    </tr>\n",
       "    <tr>\n",
       "      <th>...</th>\n",
       "      <td>...</td>\n",
       "      <td>...</td>\n",
       "      <td>...</td>\n",
       "      <td>...</td>\n",
       "      <td>...</td>\n",
       "      <td>...</td>\n",
       "      <td>...</td>\n",
       "      <td>...</td>\n",
       "      <td>...</td>\n",
       "      <td>...</td>\n",
       "      <td>...</td>\n",
       "      <td>...</td>\n",
       "      <td>...</td>\n",
       "      <td>...</td>\n",
       "      <td>...</td>\n",
       "      <td>...</td>\n",
       "      <td>...</td>\n",
       "      <td>...</td>\n",
       "      <td>...</td>\n",
       "      <td>...</td>\n",
       "      <td>...</td>\n",
       "    </tr>\n",
       "    <tr>\n",
       "      <th>2235</th>\n",
       "      <td>10870</td>\n",
       "      <td>1967</td>\n",
       "      <td>Graduation</td>\n",
       "      <td>Married</td>\n",
       "      <td>61223.0</td>\n",
       "      <td>0</td>\n",
       "      <td>1</td>\n",
       "      <td>2013-06-13</td>\n",
       "      <td>46</td>\n",
       "      <td>709</td>\n",
       "      <td>...</td>\n",
       "      <td>5</td>\n",
       "      <td>0</td>\n",
       "      <td>0</td>\n",
       "      <td>0</td>\n",
       "      <td>0</td>\n",
       "      <td>0</td>\n",
       "      <td>0</td>\n",
       "      <td>3</td>\n",
       "      <td>11</td>\n",
       "      <td>0</td>\n",
       "    </tr>\n",
       "    <tr>\n",
       "      <th>2236</th>\n",
       "      <td>4001</td>\n",
       "      <td>1946</td>\n",
       "      <td>PhD</td>\n",
       "      <td>Together</td>\n",
       "      <td>64014.0</td>\n",
       "      <td>2</td>\n",
       "      <td>1</td>\n",
       "      <td>2014-06-10</td>\n",
       "      <td>56</td>\n",
       "      <td>406</td>\n",
       "      <td>...</td>\n",
       "      <td>7</td>\n",
       "      <td>0</td>\n",
       "      <td>0</td>\n",
       "      <td>0</td>\n",
       "      <td>1</td>\n",
       "      <td>0</td>\n",
       "      <td>0</td>\n",
       "      <td>3</td>\n",
       "      <td>11</td>\n",
       "      <td>0</td>\n",
       "    </tr>\n",
       "    <tr>\n",
       "      <th>2237</th>\n",
       "      <td>7270</td>\n",
       "      <td>1981</td>\n",
       "      <td>Graduation</td>\n",
       "      <td>Divorced</td>\n",
       "      <td>56981.0</td>\n",
       "      <td>0</td>\n",
       "      <td>0</td>\n",
       "      <td>2014-01-25</td>\n",
       "      <td>91</td>\n",
       "      <td>908</td>\n",
       "      <td>...</td>\n",
       "      <td>6</td>\n",
       "      <td>0</td>\n",
       "      <td>1</td>\n",
       "      <td>0</td>\n",
       "      <td>0</td>\n",
       "      <td>0</td>\n",
       "      <td>0</td>\n",
       "      <td>3</td>\n",
       "      <td>11</td>\n",
       "      <td>0</td>\n",
       "    </tr>\n",
       "    <tr>\n",
       "      <th>2238</th>\n",
       "      <td>8235</td>\n",
       "      <td>1956</td>\n",
       "      <td>Master</td>\n",
       "      <td>Together</td>\n",
       "      <td>69245.0</td>\n",
       "      <td>0</td>\n",
       "      <td>1</td>\n",
       "      <td>2014-01-24</td>\n",
       "      <td>8</td>\n",
       "      <td>428</td>\n",
       "      <td>...</td>\n",
       "      <td>3</td>\n",
       "      <td>0</td>\n",
       "      <td>0</td>\n",
       "      <td>0</td>\n",
       "      <td>0</td>\n",
       "      <td>0</td>\n",
       "      <td>0</td>\n",
       "      <td>3</td>\n",
       "      <td>11</td>\n",
       "      <td>0</td>\n",
       "    </tr>\n",
       "    <tr>\n",
       "      <th>2239</th>\n",
       "      <td>9405</td>\n",
       "      <td>1954</td>\n",
       "      <td>PhD</td>\n",
       "      <td>Married</td>\n",
       "      <td>52869.0</td>\n",
       "      <td>1</td>\n",
       "      <td>1</td>\n",
       "      <td>2012-10-15</td>\n",
       "      <td>40</td>\n",
       "      <td>84</td>\n",
       "      <td>...</td>\n",
       "      <td>7</td>\n",
       "      <td>0</td>\n",
       "      <td>0</td>\n",
       "      <td>0</td>\n",
       "      <td>0</td>\n",
       "      <td>0</td>\n",
       "      <td>0</td>\n",
       "      <td>3</td>\n",
       "      <td>11</td>\n",
       "      <td>1</td>\n",
       "    </tr>\n",
       "  </tbody>\n",
       "</table>\n",
       "<p>2240 rows × 29 columns</p>\n",
       "</div>"
      ],
      "text/plain": [
       "         ID  Year_Birth   Education Marital_Status   Income  Kidhome  \\\n",
       "0      5524        1957  Graduation         Single  58138.0        0   \n",
       "1      2174        1954  Graduation         Single  46344.0        1   \n",
       "2      4141        1965  Graduation       Together  71613.0        0   \n",
       "3      6182        1984  Graduation       Together  26646.0        1   \n",
       "4      5324        1981         PhD        Married  58293.0        1   \n",
       "...     ...         ...         ...            ...      ...      ...   \n",
       "2235  10870        1967  Graduation        Married  61223.0        0   \n",
       "2236   4001        1946         PhD       Together  64014.0        2   \n",
       "2237   7270        1981  Graduation       Divorced  56981.0        0   \n",
       "2238   8235        1956      Master       Together  69245.0        0   \n",
       "2239   9405        1954         PhD        Married  52869.0        1   \n",
       "\n",
       "      Teenhome Dt_Customer  Recency  MntWines  ...  NumWebVisitsMonth  \\\n",
       "0            0  2012-09-04       58       635  ...                  7   \n",
       "1            1  2014-03-08       38        11  ...                  5   \n",
       "2            0  2013-08-21       26       426  ...                  4   \n",
       "3            0  2014-02-10       26        11  ...                  6   \n",
       "4            0  2014-01-19       94       173  ...                  5   \n",
       "...        ...         ...      ...       ...  ...                ...   \n",
       "2235         1  2013-06-13       46       709  ...                  5   \n",
       "2236         1  2014-06-10       56       406  ...                  7   \n",
       "2237         0  2014-01-25       91       908  ...                  6   \n",
       "2238         1  2014-01-24        8       428  ...                  3   \n",
       "2239         1  2012-10-15       40        84  ...                  7   \n",
       "\n",
       "      AcceptedCmp3  AcceptedCmp4  AcceptedCmp5  AcceptedCmp1  AcceptedCmp2  \\\n",
       "0                0             0             0             0             0   \n",
       "1                0             0             0             0             0   \n",
       "2                0             0             0             0             0   \n",
       "3                0             0             0             0             0   \n",
       "4                0             0             0             0             0   \n",
       "...            ...           ...           ...           ...           ...   \n",
       "2235             0             0             0             0             0   \n",
       "2236             0             0             0             1             0   \n",
       "2237             0             1             0             0             0   \n",
       "2238             0             0             0             0             0   \n",
       "2239             0             0             0             0             0   \n",
       "\n",
       "      Complain  Z_CostContact  Z_Revenue  Response  \n",
       "0            0              3         11         1  \n",
       "1            0              3         11         0  \n",
       "2            0              3         11         0  \n",
       "3            0              3         11         0  \n",
       "4            0              3         11         0  \n",
       "...        ...            ...        ...       ...  \n",
       "2235         0              3         11         0  \n",
       "2236         0              3         11         0  \n",
       "2237         0              3         11         0  \n",
       "2238         0              3         11         0  \n",
       "2239         0              3         11         1  \n",
       "\n",
       "[2240 rows x 29 columns]"
      ]
     },
     "execution_count": 85,
     "metadata": {},
     "output_type": "execute_result"
    }
   ],
   "source": [
    "data_raw"
   ]
  },
  {
   "cell_type": "markdown",
   "id": "9c4392b4",
   "metadata": {},
   "source": [
    "### 1.2.1 Data dimensions"
   ]
  },
  {
   "cell_type": "code",
   "execution_count": 86,
   "id": "54383ba5",
   "metadata": {
    "ExecuteTime": {
     "end_time": "2023-02-11T16:40:47.986729Z",
     "start_time": "2023-02-11T16:40:47.971101Z"
    }
   },
   "outputs": [
    {
     "data": {
      "text/plain": [
       "(2240, 29)"
      ]
     },
     "execution_count": 86,
     "metadata": {},
     "output_type": "execute_result"
    }
   ],
   "source": [
    "data_raw.shape"
   ]
  },
  {
   "cell_type": "markdown",
   "id": "4b7f9f8a",
   "metadata": {},
   "source": [
    "Temos um total de 2240 linhas e 29 colunas"
   ]
  },
  {
   "cell_type": "code",
   "execution_count": 87,
   "id": "b232934d",
   "metadata": {
    "ExecuteTime": {
     "end_time": "2023-02-11T16:40:48.005378Z",
     "start_time": "2023-02-11T16:40:47.989742Z"
    }
   },
   "outputs": [],
   "source": [
    "#colunas antigas\n",
    "old_cols = data_raw.columns\n",
    "#função auxiliar\n",
    "snakecase = lambda x: inflection.underscore(x)\n",
    "# tranformando os nomes das colunas antigas em padrão snake_case\n",
    "new_cols = list(map(snakecase,old_cols))\n",
    "\n",
    "# renomeando as colunas\n",
    "data_raw.columns = new_cols"
   ]
  },
  {
   "cell_type": "markdown",
   "id": "4c12d0c6",
   "metadata": {},
   "source": [
    "### 1.2.2 Checking data types"
   ]
  },
  {
   "cell_type": "code",
   "execution_count": 88,
   "id": "ac144bb3",
   "metadata": {
    "ExecuteTime": {
     "end_time": "2023-02-11T16:40:48.036633Z",
     "start_time": "2023-02-11T16:40:48.005378Z"
    },
    "scrolled": false
   },
   "outputs": [
    {
     "data": {
      "text/plain": [
       "id                         int64\n",
       "year_birth                 int64\n",
       "education                 object\n",
       "marital_status            object\n",
       "income                   float64\n",
       "kidhome                    int64\n",
       "teenhome                   int64\n",
       "dt_customer               object\n",
       "recency                    int64\n",
       "mnt_wines                  int64\n",
       "mnt_fruits                 int64\n",
       "mnt_meat_products          int64\n",
       "mnt_fish_products          int64\n",
       "mnt_sweet_products         int64\n",
       "mnt_gold_prods             int64\n",
       "num_deals_purchases        int64\n",
       "num_web_purchases          int64\n",
       "num_catalog_purchases      int64\n",
       "num_store_purchases        int64\n",
       "num_web_visits_month       int64\n",
       "accepted_cmp3              int64\n",
       "accepted_cmp4              int64\n",
       "accepted_cmp5              int64\n",
       "accepted_cmp1              int64\n",
       "accepted_cmp2              int64\n",
       "complain                   int64\n",
       "z_cost_contact             int64\n",
       "z_revenue                  int64\n",
       "response                   int64\n",
       "dtype: object"
      ]
     },
     "execution_count": 88,
     "metadata": {},
     "output_type": "execute_result"
    }
   ],
   "source": [
    "data_raw.dtypes"
   ]
  },
  {
   "cell_type": "markdown",
   "id": "e8567a65",
   "metadata": {},
   "source": [
    "**changing the variable 'dt_costumer' to datatime type**"
   ]
  },
  {
   "cell_type": "code",
   "execution_count": 89,
   "id": "0130270d",
   "metadata": {
    "ExecuteTime": {
     "end_time": "2023-02-11T16:40:48.067885Z",
     "start_time": "2023-02-11T16:40:48.036633Z"
    }
   },
   "outputs": [],
   "source": [
    "data_raw['dt_customer'] = pd.to_datetime(data_raw['dt_customer'])"
   ]
  },
  {
   "cell_type": "markdown",
   "id": "b5989631",
   "metadata": {},
   "source": [
    "###  1.2.3 Checking NA values"
   ]
  },
  {
   "cell_type": "code",
   "execution_count": 90,
   "id": "9cafbb37",
   "metadata": {
    "ExecuteTime": {
     "end_time": "2023-02-11T16:40:48.105657Z",
     "start_time": "2023-02-11T16:40:48.067885Z"
    }
   },
   "outputs": [
    {
     "data": {
      "text/plain": [
       "id                        0\n",
       "year_birth                0\n",
       "education                 0\n",
       "marital_status            0\n",
       "income                   24\n",
       "kidhome                   0\n",
       "teenhome                  0\n",
       "dt_customer               0\n",
       "recency                   0\n",
       "mnt_wines                 0\n",
       "mnt_fruits                0\n",
       "mnt_meat_products         0\n",
       "mnt_fish_products         0\n",
       "mnt_sweet_products        0\n",
       "mnt_gold_prods            0\n",
       "num_deals_purchases       0\n",
       "num_web_purchases         0\n",
       "num_catalog_purchases     0\n",
       "num_store_purchases       0\n",
       "num_web_visits_month      0\n",
       "accepted_cmp3             0\n",
       "accepted_cmp4             0\n",
       "accepted_cmp5             0\n",
       "accepted_cmp1             0\n",
       "accepted_cmp2             0\n",
       "complain                  0\n",
       "z_cost_contact            0\n",
       "z_revenue                 0\n",
       "response                  0\n",
       "dtype: int64"
      ]
     },
     "execution_count": 90,
     "metadata": {},
     "output_type": "execute_result"
    }
   ],
   "source": [
    "data_raw.isnull().sum()"
   ]
  },
  {
   "cell_type": "markdown",
   "id": "a7e7a33a",
   "metadata": {},
   "source": [
    "Neste primeiro momento os valores nulos serão deletados"
   ]
  },
  {
   "cell_type": "code",
   "execution_count": 91,
   "id": "4ff1c4db",
   "metadata": {
    "ExecuteTime": {
     "end_time": "2023-02-11T16:40:48.136905Z",
     "start_time": "2023-02-11T16:40:48.105657Z"
    }
   },
   "outputs": [],
   "source": [
    "data_raw = data_raw.dropna()"
   ]
  },
  {
   "cell_type": "markdown",
   "id": "351b18db",
   "metadata": {},
   "source": [
    "#  2.0 Descriptive statistical"
   ]
  },
  {
   "cell_type": "code",
   "execution_count": 92,
   "id": "b7b64c1a",
   "metadata": {
    "ExecuteTime": {
     "end_time": "2023-02-11T16:40:48.152531Z",
     "start_time": "2023-02-11T16:40:48.136905Z"
    }
   },
   "outputs": [],
   "source": [
    "df1 = data_raw.copy()"
   ]
  },
  {
   "cell_type": "markdown",
   "id": "11c8c7b5",
   "metadata": {},
   "source": [
    "'ID' : categorical statistics\n",
    "\n",
    "'Year_Birth': numerical statistics\n",
    "\n",
    "'Education': categorical statistics\n",
    "\n",
    "'Marital_Status': categorical statistics\n",
    "\n",
    "'Income': numerical statistics\n",
    "\n",
    "'Kidhome': numerical statistics\n",
    "\n",
    "'Teenhome': numerical statistics\n",
    "\n",
    "'Dt_Customer': numerical statistics\n",
    "\n",
    "'Recency': numerical statistics\n",
    "\n",
    "'MntWines': numerical statistics\n",
    "\n",
    "'MntFruits': numerical statistics\n",
    "\n",
    "'MntMeatProducts': numerical statistics\n",
    "\n",
    "'MntFishProducts': numerical statistics\n",
    "\n",
    "'MntSweetProducts': numerical statistics\n",
    "\n",
    "'MntGoldProds': numerical statistics\n",
    "\n",
    "'NumDealsPurchases': numerical statistics\n",
    "\n",
    "'NumWebPurchases': numerical statistics\n",
    "\n",
    "'NumCatalogPurchases': numerical statistics\n",
    "\n",
    "'NumStorePurchases': numerical statistics\n",
    "\n",
    "'NumWebVisitsMonth': numerical statistics\n",
    "\n",
    "'AcceptedCmp3': categorical statistics\n",
    "\n",
    "'AcceptedCmp4': categorical statistics\n",
    "\n",
    "'AcceptedCmp5': categorical statistics\n",
    "\n",
    "'AcceptedCmp1': categorical statistics\n",
    "\n",
    "'AcceptedCmp2': categorical statistics\n",
    "\n",
    "'Complain': categorical statistics\n",
    "\n",
    "'Z_CostContact': numerical statistics\n",
    "\n",
    "'Z_Revenue': numerical statistics\n",
    "\n",
    "'Response': categorical statistics"
   ]
  },
  {
   "cell_type": "code",
   "execution_count": 93,
   "id": "1d27bbf6",
   "metadata": {
    "ExecuteTime": {
     "end_time": "2023-02-11T16:40:48.183781Z",
     "start_time": "2023-02-11T16:40:48.152531Z"
    }
   },
   "outputs": [],
   "source": [
    "# divisão dos dados em dois dataframes, um categórico e outro numérico\n",
    "num_atributtes = df1[['year_birth', 'income','kidhome', 'teenhome',\n",
    "                      'recency','mnt_wines', 'mnt_fruits',\n",
    "                      'mnt_meat_products', 'mnt_fish_products','mnt_sweet_products', 'mnt_gold_prods',\n",
    "                      'num_deals_purchases', 'num_web_purchases','num_catalog_purchases', 'num_store_purchases',\n",
    "                      'num_web_visits_month', 'z_cost_contact','z_revenue']]\n",
    "cat_atributtes = df1[['id','education','marital_status',\n",
    "                      'accepted_cmp3','accepted_cmp4','accepted_cmp5',\n",
    "                      'accepted_cmp1','accepted_cmp2','complain','response']]"
   ]
  },
  {
   "cell_type": "markdown",
   "id": "a3cbd230",
   "metadata": {},
   "source": [
    "**Separando os dados em categoricos ou númericos para análise**\n",
    "\n",
    "**Dividing the data into categorical or numerical to analysis**\n"
   ]
  },
  {
   "cell_type": "markdown",
   "id": "accc4bc7",
   "metadata": {},
   "source": [
    "## 2.1 Numerical Statistics"
   ]
  },
  {
   "cell_type": "code",
   "execution_count": 94,
   "id": "79cafc2d",
   "metadata": {
    "ExecuteTime": {
     "end_time": "2023-02-11T16:40:48.321832Z",
     "start_time": "2023-02-11T16:40:48.190291Z"
    },
    "scrolled": true
   },
   "outputs": [
    {
     "data": {
      "text/html": [
       "<div>\n",
       "<style scoped>\n",
       "    .dataframe tbody tr th:only-of-type {\n",
       "        vertical-align: middle;\n",
       "    }\n",
       "\n",
       "    .dataframe tbody tr th {\n",
       "        vertical-align: top;\n",
       "    }\n",
       "\n",
       "    .dataframe thead th {\n",
       "        text-align: right;\n",
       "    }\n",
       "</style>\n",
       "<table border=\"1\" class=\"dataframe\">\n",
       "  <thead>\n",
       "    <tr style=\"text-align: right;\">\n",
       "      <th></th>\n",
       "      <th>max</th>\n",
       "      <th>min</th>\n",
       "      <th>range</th>\n",
       "      <th>mean</th>\n",
       "      <th>median</th>\n",
       "      <th>std</th>\n",
       "      <th>skew</th>\n",
       "      <th>kurtosis</th>\n",
       "    </tr>\n",
       "  </thead>\n",
       "  <tbody>\n",
       "    <tr>\n",
       "      <th>year_birth</th>\n",
       "      <td>1996.0</td>\n",
       "      <td>1893.0</td>\n",
       "      <td>103.0</td>\n",
       "      <td>1968.820397</td>\n",
       "      <td>1970.0</td>\n",
       "      <td>11.985554</td>\n",
       "      <td>-0.353661</td>\n",
       "      <td>0.734670</td>\n",
       "    </tr>\n",
       "    <tr>\n",
       "      <th>income</th>\n",
       "      <td>666666.0</td>\n",
       "      <td>1730.0</td>\n",
       "      <td>664936.0</td>\n",
       "      <td>52247.251354</td>\n",
       "      <td>51381.5</td>\n",
       "      <td>25173.076661</td>\n",
       "      <td>6.763487</td>\n",
       "      <td>159.636700</td>\n",
       "    </tr>\n",
       "    <tr>\n",
       "      <th>kidhome</th>\n",
       "      <td>2.0</td>\n",
       "      <td>0.0</td>\n",
       "      <td>2.0</td>\n",
       "      <td>0.441787</td>\n",
       "      <td>0.0</td>\n",
       "      <td>0.536896</td>\n",
       "      <td>0.635610</td>\n",
       "      <td>-0.791164</td>\n",
       "    </tr>\n",
       "    <tr>\n",
       "      <th>teenhome</th>\n",
       "      <td>2.0</td>\n",
       "      <td>0.0</td>\n",
       "      <td>2.0</td>\n",
       "      <td>0.505415</td>\n",
       "      <td>0.0</td>\n",
       "      <td>0.544181</td>\n",
       "      <td>0.407553</td>\n",
       "      <td>-0.989619</td>\n",
       "    </tr>\n",
       "    <tr>\n",
       "      <th>recency</th>\n",
       "      <td>99.0</td>\n",
       "      <td>0.0</td>\n",
       "      <td>99.0</td>\n",
       "      <td>49.012635</td>\n",
       "      <td>49.0</td>\n",
       "      <td>28.948352</td>\n",
       "      <td>0.001648</td>\n",
       "      <td>-1.199777</td>\n",
       "    </tr>\n",
       "    <tr>\n",
       "      <th>mnt_wines</th>\n",
       "      <td>1493.0</td>\n",
       "      <td>0.0</td>\n",
       "      <td>1493.0</td>\n",
       "      <td>305.091606</td>\n",
       "      <td>174.5</td>\n",
       "      <td>337.327920</td>\n",
       "      <td>1.170720</td>\n",
       "      <td>0.582741</td>\n",
       "    </tr>\n",
       "    <tr>\n",
       "      <th>mnt_fruits</th>\n",
       "      <td>199.0</td>\n",
       "      <td>0.0</td>\n",
       "      <td>199.0</td>\n",
       "      <td>26.356047</td>\n",
       "      <td>8.0</td>\n",
       "      <td>39.793917</td>\n",
       "      <td>2.101658</td>\n",
       "      <td>4.054082</td>\n",
       "    </tr>\n",
       "    <tr>\n",
       "      <th>mnt_meat_products</th>\n",
       "      <td>1725.0</td>\n",
       "      <td>0.0</td>\n",
       "      <td>1725.0</td>\n",
       "      <td>166.995939</td>\n",
       "      <td>68.0</td>\n",
       "      <td>224.283273</td>\n",
       "      <td>2.025577</td>\n",
       "      <td>5.055477</td>\n",
       "    </tr>\n",
       "    <tr>\n",
       "      <th>mnt_fish_products</th>\n",
       "      <td>259.0</td>\n",
       "      <td>0.0</td>\n",
       "      <td>259.0</td>\n",
       "      <td>37.637635</td>\n",
       "      <td>12.0</td>\n",
       "      <td>54.752082</td>\n",
       "      <td>1.916369</td>\n",
       "      <td>3.076476</td>\n",
       "    </tr>\n",
       "    <tr>\n",
       "      <th>mnt_sweet_products</th>\n",
       "      <td>262.0</td>\n",
       "      <td>0.0</td>\n",
       "      <td>262.0</td>\n",
       "      <td>27.028881</td>\n",
       "      <td>8.0</td>\n",
       "      <td>41.072046</td>\n",
       "      <td>2.103328</td>\n",
       "      <td>4.106141</td>\n",
       "    </tr>\n",
       "    <tr>\n",
       "      <th>mnt_gold_prods</th>\n",
       "      <td>321.0</td>\n",
       "      <td>0.0</td>\n",
       "      <td>321.0</td>\n",
       "      <td>43.965253</td>\n",
       "      <td>24.5</td>\n",
       "      <td>51.815414</td>\n",
       "      <td>1.839231</td>\n",
       "      <td>3.156342</td>\n",
       "    </tr>\n",
       "    <tr>\n",
       "      <th>num_deals_purchases</th>\n",
       "      <td>15.0</td>\n",
       "      <td>0.0</td>\n",
       "      <td>15.0</td>\n",
       "      <td>2.323556</td>\n",
       "      <td>2.0</td>\n",
       "      <td>1.923716</td>\n",
       "      <td>2.415272</td>\n",
       "      <td>8.974490</td>\n",
       "    </tr>\n",
       "    <tr>\n",
       "      <th>num_web_purchases</th>\n",
       "      <td>27.0</td>\n",
       "      <td>0.0</td>\n",
       "      <td>27.0</td>\n",
       "      <td>4.085289</td>\n",
       "      <td>4.0</td>\n",
       "      <td>2.740951</td>\n",
       "      <td>1.197037</td>\n",
       "      <td>4.072137</td>\n",
       "    </tr>\n",
       "    <tr>\n",
       "      <th>num_catalog_purchases</th>\n",
       "      <td>28.0</td>\n",
       "      <td>0.0</td>\n",
       "      <td>28.0</td>\n",
       "      <td>2.671029</td>\n",
       "      <td>2.0</td>\n",
       "      <td>2.926734</td>\n",
       "      <td>1.881075</td>\n",
       "      <td>8.067126</td>\n",
       "    </tr>\n",
       "    <tr>\n",
       "      <th>num_store_purchases</th>\n",
       "      <td>13.0</td>\n",
       "      <td>0.0</td>\n",
       "      <td>13.0</td>\n",
       "      <td>5.800993</td>\n",
       "      <td>5.0</td>\n",
       "      <td>3.250785</td>\n",
       "      <td>0.701826</td>\n",
       "      <td>-0.626462</td>\n",
       "    </tr>\n",
       "    <tr>\n",
       "      <th>num_web_visits_month</th>\n",
       "      <td>20.0</td>\n",
       "      <td>0.0</td>\n",
       "      <td>20.0</td>\n",
       "      <td>5.319043</td>\n",
       "      <td>6.0</td>\n",
       "      <td>2.425359</td>\n",
       "      <td>0.218043</td>\n",
       "      <td>1.852577</td>\n",
       "    </tr>\n",
       "    <tr>\n",
       "      <th>z_cost_contact</th>\n",
       "      <td>3.0</td>\n",
       "      <td>3.0</td>\n",
       "      <td>0.0</td>\n",
       "      <td>3.000000</td>\n",
       "      <td>3.0</td>\n",
       "      <td>0.000000</td>\n",
       "      <td>0.000000</td>\n",
       "      <td>0.000000</td>\n",
       "    </tr>\n",
       "    <tr>\n",
       "      <th>z_revenue</th>\n",
       "      <td>11.0</td>\n",
       "      <td>11.0</td>\n",
       "      <td>0.0</td>\n",
       "      <td>11.000000</td>\n",
       "      <td>11.0</td>\n",
       "      <td>0.000000</td>\n",
       "      <td>0.000000</td>\n",
       "      <td>0.000000</td>\n",
       "    </tr>\n",
       "  </tbody>\n",
       "</table>\n",
       "</div>"
      ],
      "text/plain": [
       "                            max     min     range          mean   median  \\\n",
       "year_birth               1996.0  1893.0     103.0   1968.820397   1970.0   \n",
       "income                 666666.0  1730.0  664936.0  52247.251354  51381.5   \n",
       "kidhome                     2.0     0.0       2.0      0.441787      0.0   \n",
       "teenhome                    2.0     0.0       2.0      0.505415      0.0   \n",
       "recency                    99.0     0.0      99.0     49.012635     49.0   \n",
       "mnt_wines                1493.0     0.0    1493.0    305.091606    174.5   \n",
       "mnt_fruits                199.0     0.0     199.0     26.356047      8.0   \n",
       "mnt_meat_products        1725.0     0.0    1725.0    166.995939     68.0   \n",
       "mnt_fish_products         259.0     0.0     259.0     37.637635     12.0   \n",
       "mnt_sweet_products        262.0     0.0     262.0     27.028881      8.0   \n",
       "mnt_gold_prods            321.0     0.0     321.0     43.965253     24.5   \n",
       "num_deals_purchases        15.0     0.0      15.0      2.323556      2.0   \n",
       "num_web_purchases          27.0     0.0      27.0      4.085289      4.0   \n",
       "num_catalog_purchases      28.0     0.0      28.0      2.671029      2.0   \n",
       "num_store_purchases        13.0     0.0      13.0      5.800993      5.0   \n",
       "num_web_visits_month       20.0     0.0      20.0      5.319043      6.0   \n",
       "z_cost_contact              3.0     3.0       0.0      3.000000      3.0   \n",
       "z_revenue                  11.0    11.0       0.0     11.000000     11.0   \n",
       "\n",
       "                                std      skew    kurtosis  \n",
       "year_birth                11.985554 -0.353661    0.734670  \n",
       "income                 25173.076661  6.763487  159.636700  \n",
       "kidhome                    0.536896  0.635610   -0.791164  \n",
       "teenhome                   0.544181  0.407553   -0.989619  \n",
       "recency                   28.948352  0.001648   -1.199777  \n",
       "mnt_wines                337.327920  1.170720    0.582741  \n",
       "mnt_fruits                39.793917  2.101658    4.054082  \n",
       "mnt_meat_products        224.283273  2.025577    5.055477  \n",
       "mnt_fish_products         54.752082  1.916369    3.076476  \n",
       "mnt_sweet_products        41.072046  2.103328    4.106141  \n",
       "mnt_gold_prods            51.815414  1.839231    3.156342  \n",
       "num_deals_purchases        1.923716  2.415272    8.974490  \n",
       "num_web_purchases          2.740951  1.197037    4.072137  \n",
       "num_catalog_purchases      2.926734  1.881075    8.067126  \n",
       "num_store_purchases        3.250785  0.701826   -0.626462  \n",
       "num_web_visits_month       2.425359  0.218043    1.852577  \n",
       "z_cost_contact             0.000000  0.000000    0.000000  \n",
       "z_revenue                  0.000000  0.000000    0.000000  "
      ]
     },
     "execution_count": 94,
     "metadata": {},
     "output_type": "execute_result"
    }
   ],
   "source": [
    "# estátisticas descritivas\n",
    "num_statistics = num_atributtes.agg(['min','max','mean','median','std','skew','kurtosis']).T\n",
    "num_statistics['range'] = num_statistics['max'] - num_statistics['min']\n",
    "num_statistics = num_statistics[['max','min','range','mean','median','std','skew','kurtosis']]\n",
    "num_statistics"
   ]
  },
  {
   "cell_type": "markdown",
   "id": "58eeaff2",
   "metadata": {},
   "source": [
    "**Um pequeno resumo das metricas de tendência central e de dispersão, durante a fase de EDA os atributos serão mais explorados para verificar seu distribuição para melhor entender a variável e sua relação com a variável resposta. Assim, já entregar algum insight importânte para o time de négocios e decidir a sua importância para o modelo**"
   ]
  },
  {
   "cell_type": "markdown",
   "id": "8c615880",
   "metadata": {},
   "source": [
    "## 2.2 Categorical Statistics "
   ]
  },
  {
   "cell_type": "code",
   "execution_count": 96,
   "id": "3bc4e178",
   "metadata": {
    "ExecuteTime": {
     "end_time": "2023-02-11T16:43:28.424202Z",
     "start_time": "2023-02-11T16:43:28.392951Z"
    }
   },
   "outputs": [
    {
     "data": {
      "text/plain": [
       "id                2216\n",
       "education            5\n",
       "marital_status       8\n",
       "accepted_cmp3        2\n",
       "accepted_cmp4        2\n",
       "accepted_cmp5        2\n",
       "accepted_cmp1        2\n",
       "accepted_cmp2        2\n",
       "complain             2\n",
       "response             2\n",
       "dtype: int64"
      ]
     },
     "execution_count": 96,
     "metadata": {},
     "output_type": "execute_result"
    }
   ],
   "source": [
    "# contagem de frequência\n",
    "cat_atributtes.apply(lambda x: x.unique().shape[0])"
   ]
  },
  {
   "cell_type": "markdown",
   "id": "75868180",
   "metadata": {},
   "source": [
    "**O número de id's é igual a tamanho do dataset após a exclusão dos dados fantantes, então não possuimos clientes repetidos**"
   ]
  },
  {
   "cell_type": "markdown",
   "id": "5df05024",
   "metadata": {},
   "source": [
    "**The number of IDs is equal to the size of the dataset after the removal of missing data, so we do not have duplicate customers.**"
   ]
  },
  {
   "cell_type": "code",
   "execution_count": 98,
   "id": "f94aa775",
   "metadata": {
    "ExecuteTime": {
     "end_time": "2023-02-11T16:44:05.911194Z",
     "start_time": "2023-02-11T16:44:05.457430Z"
    }
   },
   "outputs": [
    {
     "data": {
      "text/plain": [
       "<AxesSubplot: xlabel='response', ylabel='count'>"
      ]
     },
     "execution_count": 98,
     "metadata": {},
     "output_type": "execute_result"
    },
    {
     "data": {
      "image/png": "[encoded data removed]",
      "text/plain": [
       "<Figure size 2500x1200 with 1 Axes>"
      ]
     },
     "metadata": {},
     "output_type": "display_data"
    }
   ],
   "source": [
    "sns.countplot(x='response',data=cat_atributtes)"
   ]
  },
  {
   "cell_type": "code",
   "execution_count": 99,
   "id": "412b1538",
   "metadata": {
    "ExecuteTime": {
     "end_time": "2023-02-11T16:44:44.726363Z",
     "start_time": "2023-02-11T16:44:44.648565Z"
    }
   },
   "outputs": [
    {
     "data": {
      "text/plain": [
       "0    0.849729\n",
       "1    0.150271\n",
       "Name: response, dtype: float64"
      ]
     },
     "execution_count": 99,
     "metadata": {},
     "output_type": "execute_result"
    }
   ],
   "source": [
    "cat_atributtes['response'].value_counts(normalize=True)"
   ]
  },
  {
   "cell_type": "markdown",
   "id": "a68cb4a6",
   "metadata": {},
   "source": [
    "**o problema trata-se de um classificação desbalanceada, com a classe majoritária com quase 85% de todo dataset**"
   ]
  }
 ],
 "metadata": {
  "kernelspec": {
   "display_name": "Python 3 (ipykernel)",
   "language": "python",
   "name": "python3"
  },
  "language_info": {
   "codemirror_mode": {
    "name": "ipython",
    "version": 3
   },
   "file_extension": ".py",
   "mimetype": "text/x-python",
   "name": "python",
   "nbconvert_exporter": "python",
   "pygments_lexer": "ipython3",
   "version": "3.8.16"
  }
 },
 "nbformat": 4,
 "nbformat_minor": 5
}
